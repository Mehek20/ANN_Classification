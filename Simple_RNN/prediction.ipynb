{
 "cells": [
  {
   "cell_type": "code",
   "execution_count": 1,
   "id": "9e1e2c91",
   "metadata": {},
   "outputs": [],
   "source": [
    "import numpy as np\n",
    "import tensorflow as tf\n",
    "from tensorflow.keras.datasets import imdb\n",
    "from tensorflow.keras.preprocessing import sequence\n",
    "from tensorflow.keras.models import load_model\n"
   ]
  },
  {
   "cell_type": "code",
   "execution_count": 2,
   "id": "fcb155f6",
   "metadata": {},
   "outputs": [],
   "source": [
    "## Load the IMDB dataset word index\n",
    "word_index = imdb.get_word_index()\n",
    "# Reverse the word index to get words from indices\n",
    "reverse_word_index = dict((value, key) for (key, value) in word_index.items())"
   ]
  },
  {
   "cell_type": "code",
   "execution_count": 3,
   "id": "a20ea5ee",
   "metadata": {},
   "outputs": [
    {
     "name": "stderr",
     "output_type": "stream",
     "text": [
      "WARNING:absl:Compiled the loaded model, but the compiled metrics have yet to be built. `model.compile_metrics` will be empty until you train or evaluate the model.\n"
     ]
    },
    {
     "data": {
      "text/html": [
       "<pre style=\"white-space:pre;overflow-x:auto;line-height:normal;font-family:Menlo,'DejaVu Sans Mono',consolas,'Courier New',monospace\"><span style=\"font-weight: bold\">Model: \"sequential\"</span>\n",
       "</pre>\n"
      ],
      "text/plain": [
       "\u001b[1mModel: \"sequential\"\u001b[0m\n"
      ]
     },
     "metadata": {},
     "output_type": "display_data"
    },
    {
     "data": {
      "text/html": [
       "<pre style=\"white-space:pre;overflow-x:auto;line-height:normal;font-family:Menlo,'DejaVu Sans Mono',consolas,'Courier New',monospace\">┏━━━━━━━━━━━━━━━━━━━━━━━━━━━━━━━━━┳━━━━━━━━━━━━━━━━━━━━━━━━┳━━━━━━━━━━━━━━━┓\n",
       "┃<span style=\"font-weight: bold\"> Layer (type)                    </span>┃<span style=\"font-weight: bold\"> Output Shape           </span>┃<span style=\"font-weight: bold\">       Param # </span>┃\n",
       "┡━━━━━━━━━━━━━━━━━━━━━━━━━━━━━━━━━╇━━━━━━━━━━━━━━━━━━━━━━━━╇━━━━━━━━━━━━━━━┩\n",
       "│ embedding (<span style=\"color: #0087ff; text-decoration-color: #0087ff\">Embedding</span>)           │ (<span style=\"color: #00d7ff; text-decoration-color: #00d7ff\">None</span>, <span style=\"color: #00af00; text-decoration-color: #00af00\">500</span>, <span style=\"color: #00af00; text-decoration-color: #00af00\">128</span>)       │     <span style=\"color: #00af00; text-decoration-color: #00af00\">1,280,000</span> │\n",
       "├─────────────────────────────────┼────────────────────────┼───────────────┤\n",
       "│ simple_rnn (<span style=\"color: #0087ff; text-decoration-color: #0087ff\">SimpleRNN</span>)          │ (<span style=\"color: #00d7ff; text-decoration-color: #00d7ff\">None</span>, <span style=\"color: #00af00; text-decoration-color: #00af00\">128</span>)            │        <span style=\"color: #00af00; text-decoration-color: #00af00\">32,896</span> │\n",
       "├─────────────────────────────────┼────────────────────────┼───────────────┤\n",
       "│ dense (<span style=\"color: #0087ff; text-decoration-color: #0087ff\">Dense</span>)                   │ (<span style=\"color: #00d7ff; text-decoration-color: #00d7ff\">None</span>, <span style=\"color: #00af00; text-decoration-color: #00af00\">1</span>)              │           <span style=\"color: #00af00; text-decoration-color: #00af00\">129</span> │\n",
       "└─────────────────────────────────┴────────────────────────┴───────────────┘\n",
       "</pre>\n"
      ],
      "text/plain": [
       "┏━━━━━━━━━━━━━━━━━━━━━━━━━━━━━━━━━┳━━━━━━━━━━━━━━━━━━━━━━━━┳━━━━━━━━━━━━━━━┓\n",
       "┃\u001b[1m \u001b[0m\u001b[1mLayer (type)                   \u001b[0m\u001b[1m \u001b[0m┃\u001b[1m \u001b[0m\u001b[1mOutput Shape          \u001b[0m\u001b[1m \u001b[0m┃\u001b[1m \u001b[0m\u001b[1m      Param #\u001b[0m\u001b[1m \u001b[0m┃\n",
       "┡━━━━━━━━━━━━━━━━━━━━━━━━━━━━━━━━━╇━━━━━━━━━━━━━━━━━━━━━━━━╇━━━━━━━━━━━━━━━┩\n",
       "│ embedding (\u001b[38;5;33mEmbedding\u001b[0m)           │ (\u001b[38;5;45mNone\u001b[0m, \u001b[38;5;34m500\u001b[0m, \u001b[38;5;34m128\u001b[0m)       │     \u001b[38;5;34m1,280,000\u001b[0m │\n",
       "├─────────────────────────────────┼────────────────────────┼───────────────┤\n",
       "│ simple_rnn (\u001b[38;5;33mSimpleRNN\u001b[0m)          │ (\u001b[38;5;45mNone\u001b[0m, \u001b[38;5;34m128\u001b[0m)            │        \u001b[38;5;34m32,896\u001b[0m │\n",
       "├─────────────────────────────────┼────────────────────────┼───────────────┤\n",
       "│ dense (\u001b[38;5;33mDense\u001b[0m)                   │ (\u001b[38;5;45mNone\u001b[0m, \u001b[38;5;34m1\u001b[0m)              │           \u001b[38;5;34m129\u001b[0m │\n",
       "└─────────────────────────────────┴────────────────────────┴───────────────┘\n"
      ]
     },
     "metadata": {},
     "output_type": "display_data"
    },
    {
     "data": {
      "text/html": [
       "<pre style=\"white-space:pre;overflow-x:auto;line-height:normal;font-family:Menlo,'DejaVu Sans Mono',consolas,'Courier New',monospace\"><span style=\"font-weight: bold\"> Total params: </span><span style=\"color: #00af00; text-decoration-color: #00af00\">1,313,027</span> (5.01 MB)\n",
       "</pre>\n"
      ],
      "text/plain": [
       "\u001b[1m Total params: \u001b[0m\u001b[38;5;34m1,313,027\u001b[0m (5.01 MB)\n"
      ]
     },
     "metadata": {},
     "output_type": "display_data"
    },
    {
     "data": {
      "text/html": [
       "<pre style=\"white-space:pre;overflow-x:auto;line-height:normal;font-family:Menlo,'DejaVu Sans Mono',consolas,'Courier New',monospace\"><span style=\"font-weight: bold\"> Trainable params: </span><span style=\"color: #00af00; text-decoration-color: #00af00\">1,313,025</span> (5.01 MB)\n",
       "</pre>\n"
      ],
      "text/plain": [
       "\u001b[1m Trainable params: \u001b[0m\u001b[38;5;34m1,313,025\u001b[0m (5.01 MB)\n"
      ]
     },
     "metadata": {},
     "output_type": "display_data"
    },
    {
     "data": {
      "text/html": [
       "<pre style=\"white-space:pre;overflow-x:auto;line-height:normal;font-family:Menlo,'DejaVu Sans Mono',consolas,'Courier New',monospace\"><span style=\"font-weight: bold\"> Non-trainable params: </span><span style=\"color: #00af00; text-decoration-color: #00af00\">0</span> (0.00 B)\n",
       "</pre>\n"
      ],
      "text/plain": [
       "\u001b[1m Non-trainable params: \u001b[0m\u001b[38;5;34m0\u001b[0m (0.00 B)\n"
      ]
     },
     "metadata": {},
     "output_type": "display_data"
    },
    {
     "data": {
      "text/html": [
       "<pre style=\"white-space:pre;overflow-x:auto;line-height:normal;font-family:Menlo,'DejaVu Sans Mono',consolas,'Courier New',monospace\"><span style=\"font-weight: bold\"> Optimizer params: </span><span style=\"color: #00af00; text-decoration-color: #00af00\">2</span> (12.00 B)\n",
       "</pre>\n"
      ],
      "text/plain": [
       "\u001b[1m Optimizer params: \u001b[0m\u001b[38;5;34m2\u001b[0m (12.00 B)\n"
      ]
     },
     "metadata": {},
     "output_type": "display_data"
    }
   ],
   "source": [
    "## Load the pre-trained model with ReLU activation\n",
    "model = load_model('simple_rnn_imdb.h5')\n",
    "model.summary()"
   ]
  },
  {
   "cell_type": "code",
   "execution_count": 4,
   "id": "a0e08cf7",
   "metadata": {},
   "outputs": [
    {
     "data": {
      "text/plain": [
       "[array([[ 0.516885  , -0.52524173, -0.4210498 , ..., -0.5253391 ,\n",
       "         -0.49165213, -0.6222271 ],\n",
       "        [-0.02370991,  0.03148698,  0.01084758, ..., -0.1425008 ,\n",
       "         -0.00279947, -0.0022387 ],\n",
       "        [-0.03580283, -0.00942485, -0.00523271, ..., -0.0450131 ,\n",
       "         -0.08947132, -0.0731998 ],\n",
       "        ...,\n",
       "        [-0.01032444, -0.04359056, -0.04693126, ...,  0.07412807,\n",
       "         -0.00983218, -0.00601458],\n",
       "        [ 0.05177107,  0.08253165,  0.05348976, ...,  0.14438255,\n",
       "          0.02687267, -0.0082349 ],\n",
       "        [-0.02356657,  0.01309291, -0.11336316, ...,  0.08303947,\n",
       "         -0.13255918,  0.0720513 ]], dtype=float32),\n",
       " array([[ 0.14831482,  0.02854385,  0.07087521, ..., -0.07006308,\n",
       "          0.05290755, -0.11483994],\n",
       "        [ 0.04195893, -0.097854  , -0.01098525, ...,  0.07179285,\n",
       "         -0.01858756,  0.08271716],\n",
       "        [ 0.05797878, -0.03947107, -0.00689998, ...,  0.13224949,\n",
       "         -0.02592856,  0.00357706],\n",
       "        ...,\n",
       "        [ 0.19430202, -0.00495745,  0.13028425, ..., -0.03919231,\n",
       "         -0.02013826, -0.03503694],\n",
       "        [-0.11607406,  0.10819331, -0.1615308 , ...,  0.03057018,\n",
       "          0.13690963, -0.02220827],\n",
       "        [ 0.12570769,  0.0756672 , -0.11229957, ..., -0.09799942,\n",
       "          0.06451193,  0.14365457]], dtype=float32),\n",
       " array([[-0.01897411,  0.03557931, -0.14874232, ..., -0.12845549,\n",
       "          0.06673961, -0.02744779],\n",
       "        [ 0.17018889,  0.00610814,  0.07971182, ..., -0.03337832,\n",
       "         -0.03765576, -0.10563948],\n",
       "        [ 0.01427998,  0.06522137, -0.02508837, ..., -0.03417395,\n",
       "         -0.01285634, -0.06973728],\n",
       "        ...,\n",
       "        [ 0.08214064,  0.07038466, -0.04413376, ..., -0.1254353 ,\n",
       "         -0.07277536,  0.14715958],\n",
       "        [-0.12699565, -0.07235508,  0.0279813 , ...,  0.10496108,\n",
       "          0.06400356,  0.1486759 ],\n",
       "        [-0.11301439,  0.02376321,  0.01713642, ...,  0.15574268,\n",
       "         -0.11651419,  0.03435449]], dtype=float32),\n",
       " array([-3.2860324e-02, -1.7476112e-02,  8.3116507e-03, -7.6251402e-03,\n",
       "         2.4273025e-02, -2.7759038e-02,  5.7178829e-04, -2.6265832e-02,\n",
       "        -7.8519294e-03, -1.9550899e-03, -1.4749117e-02,  2.1392481e-02,\n",
       "        -2.0705726e-02,  1.9730299e-03,  2.2427807e-02,  1.1343639e-02,\n",
       "        -3.9749644e-03,  8.0201402e-03, -1.0832867e-02,  2.6000423e-02,\n",
       "        -1.9343380e-03,  1.6306233e-02, -1.1486957e-02,  2.2521598e-02,\n",
       "         1.0764005e-02,  1.4589674e-02,  1.9705251e-02,  4.3738354e-03,\n",
       "        -3.4609756e-03, -2.4919530e-02, -6.8665254e-03, -6.1489916e-03,\n",
       "         1.4502018e-02, -1.9058790e-02, -4.8725102e-03, -1.0879323e-02,\n",
       "         1.6598698e-02, -4.4236405e-04,  9.7104507e-03, -2.1253938e-02,\n",
       "        -8.2397452e-03,  2.2730164e-02, -4.0400755e-03, -4.6566473e-03,\n",
       "         7.3015443e-03,  1.9430980e-02, -1.9616930e-02,  2.2750772e-03,\n",
       "        -3.6579791e-02,  8.0903182e-03, -8.4542288e-03,  1.4668899e-03,\n",
       "        -2.1828974e-02, -1.2041022e-02, -1.1659769e-03,  4.8553674e-03,\n",
       "         1.1275393e-02, -2.0156247e-03, -7.7599483e-03,  1.2320533e-02,\n",
       "         1.8728485e-02, -8.5703311e-03,  1.5099572e-01, -1.7878722e-02,\n",
       "        -7.2514350e-03,  2.4786474e-02, -2.5795880e-03, -7.0737200e-03,\n",
       "        -4.7063429e-02,  1.7526997e-02,  2.5172058e-02, -1.7634841e-02,\n",
       "         8.8912789e-03, -1.6583990e-02, -2.4144772e-02, -1.2230683e-02,\n",
       "        -3.3333514e-02, -2.2069100e-02, -6.7615444e-03, -3.1420030e-03,\n",
       "        -4.0196008e-03, -6.4605684e-03,  4.7268150e-03,  7.6658465e-03,\n",
       "         6.0573865e-02,  2.5455013e-03,  5.3409007e-03,  1.7741634e-02,\n",
       "         1.8545045e-02,  2.1316543e-02, -3.4505520e-03,  9.1500231e-04,\n",
       "        -2.2274660e-02, -5.5071046e-03, -2.7616544e-02, -8.9254184e-03,\n",
       "         7.3265517e-03,  3.5759481e-03,  5.3252086e-05, -1.3037821e-02,\n",
       "        -1.7431755e-02,  1.8505394e-02,  1.5248726e-02,  3.1579663e-03,\n",
       "        -2.0037841e-03,  5.5071454e-02,  2.7698406e-03,  1.3847726e-02,\n",
       "         1.9709727e-02, -2.9079070e-02, -2.1028019e-02,  3.3844884e-03,\n",
       "        -6.0012485e-03, -7.5665461e-03, -1.8132785e-02,  9.8351073e-03,\n",
       "        -3.8524047e-03, -1.2477222e-02, -1.3122611e-03,  8.6083226e-03,\n",
       "         2.3919338e-02, -1.2962828e-02, -1.9930422e-02, -2.4786906e-02,\n",
       "        -2.0662503e-02, -1.3689348e-03, -1.3732243e-02,  2.2398915e-02],\n",
       "       dtype=float32),\n",
       " array([[ 8.55123252e-02],\n",
       "        [-1.18886158e-01],\n",
       "        [-1.18904404e-01],\n",
       "        [ 1.46043435e-01],\n",
       "        [-2.00502604e-01],\n",
       "        [-4.46013138e-02],\n",
       "        [ 2.63155907e-01],\n",
       "        [-1.72851235e-01],\n",
       "        [ 2.60078043e-01],\n",
       "        [ 2.33642329e-02],\n",
       "        [ 1.12988092e-02],\n",
       "        [ 2.52116829e-01],\n",
       "        [ 2.00721070e-01],\n",
       "        [-6.87107593e-02],\n",
       "        [ 4.21005368e-01],\n",
       "        [-1.83678240e-01],\n",
       "        [-7.33072087e-02],\n",
       "        [ 9.37843621e-02],\n",
       "        [-9.72865745e-02],\n",
       "        [-1.53375745e-01],\n",
       "        [-1.07920781e-01],\n",
       "        [-1.47120848e-01],\n",
       "        [ 5.15441358e-01],\n",
       "        [ 1.67949155e-01],\n",
       "        [ 5.59804924e-02],\n",
       "        [-5.21558747e-02],\n",
       "        [-6.77826107e-02],\n",
       "        [ 1.71272829e-01],\n",
       "        [ 5.71927316e-02],\n",
       "        [ 1.31005859e-02],\n",
       "        [-3.50120403e-02],\n",
       "        [-2.95633912e-01],\n",
       "        [-1.99399889e-01],\n",
       "        [-1.35699362e-01],\n",
       "        [ 1.84998602e-01],\n",
       "        [-1.93701252e-01],\n",
       "        [-1.02766864e-01],\n",
       "        [-1.71760961e-01],\n",
       "        [ 2.21103162e-01],\n",
       "        [ 2.61731625e-01],\n",
       "        [ 6.73791245e-02],\n",
       "        [-1.66358441e-01],\n",
       "        [ 1.02642983e-01],\n",
       "        [ 1.91146135e-01],\n",
       "        [-1.93344444e-01],\n",
       "        [-1.64437205e-01],\n",
       "        [-7.85432160e-02],\n",
       "        [-2.96414923e-02],\n",
       "        [-2.11899474e-01],\n",
       "        [ 4.56975102e-02],\n",
       "        [ 8.64666048e-03],\n",
       "        [ 1.28658876e-01],\n",
       "        [ 1.89983711e-01],\n",
       "        [-1.86466575e-01],\n",
       "        [-1.23144880e-01],\n",
       "        [-2.18559489e-01],\n",
       "        [ 2.15485528e-01],\n",
       "        [ 1.11971758e-01],\n",
       "        [-1.25238612e-01],\n",
       "        [ 1.92701727e-01],\n",
       "        [ 2.27476835e-01],\n",
       "        [-1.35974567e-02],\n",
       "        [ 5.99107221e-02],\n",
       "        [ 6.41730279e-02],\n",
       "        [ 3.32199708e-02],\n",
       "        [-2.75559068e-01],\n",
       "        [-3.05264071e-02],\n",
       "        [ 1.80895925e-01],\n",
       "        [ 7.71168992e-02],\n",
       "        [-2.28126384e-02],\n",
       "        [-4.07749452e-02],\n",
       "        [-1.56553447e-01],\n",
       "        [-1.92766562e-01],\n",
       "        [ 7.02181533e-02],\n",
       "        [-2.16240317e-01],\n",
       "        [-7.28517249e-02],\n",
       "        [-1.47660702e-01],\n",
       "        [-2.48847180e-03],\n",
       "        [ 2.17568964e-01],\n",
       "        [ 1.84512466e-01],\n",
       "        [ 2.40997314e-01],\n",
       "        [ 2.34979093e-01],\n",
       "        [-1.13335535e-01],\n",
       "        [-8.27293992e-02],\n",
       "        [-2.73784757e-01],\n",
       "        [ 2.66330332e-01],\n",
       "        [ 2.68541276e-01],\n",
       "        [-1.24259569e-01],\n",
       "        [ 1.72459692e-01],\n",
       "        [ 2.65323460e-01],\n",
       "        [ 6.53864503e-01],\n",
       "        [ 1.51069254e-01],\n",
       "        [ 2.26587435e-05],\n",
       "        [ 6.26538247e-02],\n",
       "        [ 7.26881325e-02],\n",
       "        [-1.91755220e-01],\n",
       "        [ 2.33664945e-01],\n",
       "        [-1.47745222e-01],\n",
       "        [ 1.42403558e-01],\n",
       "        [-7.58534595e-02],\n",
       "        [-5.08399606e-01],\n",
       "        [-1.07842796e-01],\n",
       "        [ 3.48208584e-02],\n",
       "        [-1.75815865e-01],\n",
       "        [-2.14331299e-01],\n",
       "        [ 1.82366237e-01],\n",
       "        [-1.60136938e-01],\n",
       "        [-2.07488894e-01],\n",
       "        [-1.79256588e-01],\n",
       "        [ 1.30292177e-01],\n",
       "        [-6.11275341e-03],\n",
       "        [ 9.24655646e-02],\n",
       "        [ 9.40511301e-02],\n",
       "        [ 1.81390032e-01],\n",
       "        [-3.58033590e-02],\n",
       "        [-8.67367089e-02],\n",
       "        [ 5.58221117e-02],\n",
       "        [ 5.71100488e-02],\n",
       "        [-9.85546783e-02],\n",
       "        [ 1.08292565e-01],\n",
       "        [-2.35466808e-02],\n",
       "        [-2.58544683e-01],\n",
       "        [ 2.01525375e-01],\n",
       "        [-4.17387396e-01],\n",
       "        [-1.93605036e-01],\n",
       "        [-2.89142847e-01],\n",
       "        [-9.54741761e-02],\n",
       "        [ 1.82367474e-01]], dtype=float32),\n",
       " array([-0.0382854], dtype=float32)]"
      ]
     },
     "execution_count": 4,
     "metadata": {},
     "output_type": "execute_result"
    }
   ],
   "source": [
    "model.get_weights()"
   ]
  },
  {
   "cell_type": "code",
   "execution_count": 5,
   "id": "e40710d5",
   "metadata": {},
   "outputs": [],
   "source": [
    "## Step2 : Helper Functions\n",
    "## Function to decode reviews\n",
    "def decode_review(encoded_review):\n",
    "    return ' '.join([reverse_word_index.get(i - 3, '?') for i in encoded_review])\n",
    "\n",
    "## Function to preprocess user input\n",
    "def preprocess_text(text):\n",
    "    words=text.lower().split()\n",
    "    encoded_review = [word_index.get(word,2) + 3 for word in words]\n",
    "    # Pad the sequence to the same length as the training data\n",
    "    padded_review = sequence.pad_sequences([encoded_review], maxlen=500)\n",
    "    return padded_review"
   ]
  },
  {
   "cell_type": "code",
   "execution_count": 6,
   "id": "6e73ddaa",
   "metadata": {},
   "outputs": [],
   "source": [
    "## Prediction function\n",
    "\n",
    "def predict_sentiment(review):\n",
    "    preprocessed_input = preprocess_text(review)\n",
    "    prediction = model.predict(preprocessed_input)\n",
    "    sentiment = 'positive' if prediction[0][0] > 0.5 else 'negative'\n",
    "    return sentiment, prediction[0][0]"
   ]
  },
  {
   "cell_type": "code",
   "execution_count": 7,
   "id": "b6273eae",
   "metadata": {},
   "outputs": [
    {
     "name": "stdout",
     "output_type": "stream",
     "text": [
      "\u001b[1m1/1\u001b[0m \u001b[32m━━━━━━━━━━━━━━━━━━━━\u001b[0m\u001b[37m\u001b[0m \u001b[1m1s\u001b[0m 733ms/step\n",
      "Review: This movie was fantastic! The acting was great and the plot was thrilling.\n",
      "Sentiment: positive\n",
      "Prediction Score: 0.7820241451263428\n"
     ]
    }
   ],
   "source": [
    "# Step 4: User Input and Prediction\n",
    "# Example review for prediction\n",
    "example_review = \"This movie was fantastic! The acting was great and the plot was thrilling.\"\n",
    "\n",
    "sentiment,score=predict_sentiment(example_review)\n",
    "\n",
    "print(f'Review: {example_review}')\n",
    "print(f'Sentiment: {sentiment}')\n",
    "print(f'Prediction Score: {score}')"
   ]
  },
  {
   "cell_type": "code",
   "execution_count": null,
   "id": "b15a13f0",
   "metadata": {},
   "outputs": [],
   "source": []
  }
 ],
 "metadata": {
  "kernelspec": {
   "display_name": "Python 3",
   "language": "python",
   "name": "python3"
  },
  "language_info": {
   "codemirror_mode": {
    "name": "ipython",
    "version": 3
   },
   "file_extension": ".py",
   "mimetype": "text/x-python",
   "name": "python",
   "nbconvert_exporter": "python",
   "pygments_lexer": "ipython3",
   "version": "3.11.0"
  }
 },
 "nbformat": 4,
 "nbformat_minor": 5
}
